{
 "cells": [
  {
   "cell_type": "markdown",
   "id": "f4eeba6c",
   "metadata": {},
   "source": [
    "# Part 1 - Task 1"
   ]
  },
  {
   "cell_type": "code",
   "execution_count": 1,
   "id": "4fb3499b",
   "metadata": {},
   "outputs": [],
   "source": [
    "import random\n",
    "\n",
    "def random_riddle():\n",
    "    riddles = {\"I speak without a mouth and hear without ears. What am I?\": \"an echo\",\n",
    "        \"The more you take, the more you leave behind. What am I?\": \"footsteps\",\n",
    "        \"What has keys but can't open locks?\": \"a piano\",\n",
    "        \"I have cities but no houses. I have mountains but no trees. I have water but no fish. What am I?\": \"a map\"}\n",
    "    return random.choice(list(riddles.items()))\n",
    "\n",
    "def  playRiddlePuzzle():\n",
    "    print(\" welcome to Riddle Puzzle Game\")\n",
    "    score = 0\n",
    "    total_riddles = 0 \n",
    "    \n",
    "    while True:\n",
    "        \n",
    "        quetions,answers = random_riddle()\n",
    "        \n",
    "        print(\"\\nRiddle:\",quetions)\n",
    "        user_inpute = input(\"Enter your answer: \").lower()\n",
    "        \n",
    "        if user_inpute == answers:\n",
    "            print(\"Correct\")\n",
    "            score +=1\n",
    "        else:\n",
    "            print(\"Your answer is Incorrect :\",answers)\n",
    "             \n",
    "        total_riddles+=1\n",
    "            \n",
    "        playagain = input(\"\\n Do you want to play agian ? (Y/N):\").lower()\n",
    "        if playagain != 'y':\n",
    "            break\n",
    "            \n",
    "        \n",
    "    print(\"\\n Thanks for playing\")\n",
    "        \n",
    "    percentage_score = (score / total_riddles) * 100 if total_riddles > 0 else 0\n",
    "# This is done using the ternary conditional operator (x if condition else y), \n",
    "#where x is the value to be assigned if the condition is true, and y is the value if the condition is false.\n",
    "    print(\"\\nGame Over. Your Score: {:.2f}%\".format(percentage_score))"
   ]
  },
  {
   "cell_type": "markdown",
   "id": "5f85020a",
   "metadata": {},
   "source": [
    "# Part 2 - Task 2"
   ]
  },
  {
   "cell_type": "code",
   "execution_count": 2,
   "id": "f34e6f5c",
   "metadata": {},
   "outputs": [],
   "source": [
    "\n",
    "\n",
    "def generate_problem():\n",
    "    num1 = random.randint(1, 20)\n",
    "    num2 = random.randint(1, 20)\n",
    "    operator = random.choice(['+', '-', '*', '/'])\n",
    "    return num1, operator, num2\n",
    "\n",
    "def playArithmeticPuzzle():\n",
    "    print(\"Welcome to the Arithmetic Logic Puzzle Game\")\n",
    "    score = 0\n",
    "\n",
    "    while True:\n",
    "        num1, operator, num2 = generate_problem()\n",
    "        expression = f\"{num1} {operator} {num2}\"\n",
    "        correct_answer = eval(expression)\n",
    "\n",
    "        print(f\"\\nSolve the problem: {expression}\")\n",
    "        user_input = input(\"Your answer: \")\n",
    "\n",
    "        try:\n",
    "            user_answer = float(user_input)\n",
    "        except ValueError:\n",
    "            print(\"Invalid input. Please enter a numeric value.\")\n",
    "            continue\n",
    "\n",
    "        if user_answer == correct_answer:\n",
    "            print(\"Correct!\")\n",
    "            score += 1\n",
    "        else:\n",
    "            print(f\"Incorrect. The correct answer is: {correct_answer}\")\n",
    "\n",
    "        play_again = input(\"\\nDo you want to play again? (Y/N): \").lower()\n",
    "        if play_again != 'y':\n",
    "            break\n",
    "\n",
    "    print(\"\\nThanks for playing\")\n",
    "\n",
    "    percentage_score = (score / (score + 1)) * 100  # Avoid division by zero\n",
    "    print(f\"Game Over. Your Score: {score}/{score + 1} ({percentage_score:.2f}%)\")"
   ]
  },
  {
   "cell_type": "markdown",
   "id": "767f6bf3",
   "metadata": {},
   "source": [
    "# Part 1 - Task 3"
   ]
  },
  {
   "cell_type": "code",
   "execution_count": 3,
   "id": "4fab2ae3",
   "metadata": {},
   "outputs": [],
   "source": [
    "# playRiddlePuzzle()"
   ]
  },
  {
   "cell_type": "code",
   "execution_count": 4,
   "id": "aecf4494",
   "metadata": {},
   "outputs": [],
   "source": [
    "# playArithmeticPuzzle()"
   ]
  },
  {
   "cell_type": "markdown",
   "id": "b1f66dca",
   "metadata": {},
   "source": [
    "# Part 2 - Task 1"
   ]
  },
  {
   "cell_type": "code",
   "execution_count": 5,
   "id": "898b831f",
   "metadata": {},
   "outputs": [],
   "source": [
    "import random\n",
    "\n",
    "def  playRPSWithComputer():\n",
    "    print(\" \\n Weltcome to Play Rock, Paper, Scissors With Computer \")\n",
    "    \n",
    "    while True:\n",
    "        name = input(\"Hello! Enter your name: \").lower()\n",
    "        user_choice = input(f\"Hello {name}! Enter your choice (rock, paper, scissors): \").lower()\n",
    "\n",
    "        # Generate a random choice for the computer\n",
    "        choices = [\"rock\", \"paper\", \"scissors\"]\n",
    "        computer_choice = random.choice(choices)\n",
    "\n",
    "        print(f\"\\nComputer's choice: {computer_choice}\")\n",
    "\n",
    "        if user_choice == computer_choice:\n",
    "            print(\"It's a Draw!!!\")\n",
    "        elif user_choice == \"rock\":\n",
    "            if computer_choice == \"paper\":\n",
    "                print(\"Computer Wins!\")\n",
    "            else:\n",
    "                print(f\"{name} Wins!\")\n",
    "        elif user_choice == \"paper\":\n",
    "            if computer_choice == \"scissors\":\n",
    "                print(\"Computer Wins!\")\n",
    "            else:\n",
    "                print(f\"{name} Wins!\")\n",
    "        elif user_choice == \"scissors\":\n",
    "            if computer_choice == \"rock\":\n",
    "                print(\"Computer Wins!\")\n",
    "            else:\n",
    "                print(f\"{name} Wins!\")\n",
    "\n",
    "        play_again = input(\"\\nDo you want to play again? (Y/N): \").lower()\n",
    "        if play_again != \"y\":\n",
    "            print(\"Thanks for playing\")\n",
    "            break"
   ]
  },
  {
   "cell_type": "markdown",
   "id": "8ad5bcf9",
   "metadata": {},
   "source": [
    "# Part 2 - Task 2"
   ]
  },
  {
   "cell_type": "code",
   "execution_count": 6,
   "id": "fbe55f85",
   "metadata": {},
   "outputs": [],
   "source": [
    "def playRPSWithUser():\n",
    "    \n",
    "    print(\" \\n Weltcome to Play Rock, Paper, Scissors\")\n",
    "    \n",
    "    name1 = input(\"Hello user1! Enter your name: \").lower()\n",
    "    name2 = input(\"Hello user1! Enter your name: \").lower()\n",
    "    \n",
    "    while True:\n",
    "    \n",
    "        choice1 = input(f\"Hello {name1}! Enter a choice (rock, paper, scissors): \")\n",
    "        choice2 = input(f\"Hello {name2}! Enter a choice (rock, paper, scissors): \")\n",
    "\n",
    "        if choice1 == choice2 :\n",
    "            print(\" Its Draw !!!! \")\n",
    "\n",
    "        elif choice1 == \"rock\":\n",
    "            if choice2 == \"paper\":\n",
    "                print(f\"The Winners is {name2}\")\n",
    "            elif choice2 == \"scissors\":\n",
    "                print(f\"The Winners is {name1}\")\n",
    "        elif choice1 == \"paper\":\n",
    "            if choice2 == \"rock\":\n",
    "                print(f\"The Winners is {name1}\")\n",
    "            elif choice2 == \"scissors\":\n",
    "                print(f\"The Winners is {name2}\")\n",
    "        elif choice1 == \"scissors\":\n",
    "            if choice2 == \"rock\":\n",
    "                print(f\"The Winners is {name2}\")\n",
    "            elif choice2 == \"paper\":\n",
    "                print(f\"The Winners is {name1}\")\n",
    "\n",
    "        play_agian = input(\"\\n Do you want to play again ? (Y/N): \").lower()\n",
    "        if play_agian != \"y\":\n",
    "            print(\"Thans for playing\")\n",
    "            break"
   ]
  },
  {
   "cell_type": "markdown",
   "id": "0918f3cd",
   "metadata": {},
   "source": [
    "# Part 2 - Task 3"
   ]
  },
  {
   "cell_type": "code",
   "execution_count": 7,
   "id": "a18a8ace",
   "metadata": {},
   "outputs": [],
   "source": [
    "# playRPSWithComputer()"
   ]
  },
  {
   "cell_type": "code",
   "execution_count": 8,
   "id": "98f0f366",
   "metadata": {},
   "outputs": [],
   "source": [
    "# playRPSWithUser() "
   ]
  },
  {
   "cell_type": "markdown",
   "id": "d536a790",
   "metadata": {},
   "source": [
    "# Part 3 - Task 1"
   ]
  },
  {
   "cell_type": "code",
   "execution_count": 9,
   "id": "cf942f93",
   "metadata": {},
   "outputs": [],
   "source": [
    "import random\n",
    "\n",
    "def wordguessinggame():\n",
    "    # List of secret words\n",
    "    word_list = {\"python\" :\"A snake charmer of code, whispering logic in the wind\", \n",
    "                 \"programming\":\"The art of painting with logic, crafting digital worlds with words\",\n",
    "                 \"computer\":\" A machine that thinks, a canvas for dreams, a mirror reflecting human ingenuity\",\n",
    "                 \"keyboard\":\"The orchestra of creation, where thoughts become tangible, each keystroke a note in the symphony of code\", \n",
    "                 \"algorithm\":\" The recipe for thought, the blueprint of problem-solving, the language of logic\", \n",
    "                 \"developer\":\"The architect of the digital realm, bridging imagination and reality, breathing life into machines\", \n",
    "                 \"coding\":\" The art of conjuring worlds from thought,the dance of creativity and logic,the language of the future\"}\n",
    "\n",
    "    # Select a random word from the list\n",
    "    secret_word = random.choice(list(word_list.keys()))\n",
    "\n",
    "    # Display the number of letters in the word as a clue\n",
    "    print(f\"Guess the word! Clue: {word_list[secret_word]}\")\n",
    "\n",
    "    # Set the maximum number of attempts\n",
    "    max_attempts = 3\n",
    "    attempts = 0\n",
    "\n",
    "    while attempts < max_attempts:\n",
    "        guess = input(\"Enter your guess: \").lower()\n",
    "\n",
    "        if guess == secret_word:\n",
    "            print(f\"Congratulations! You guessed the word '{secret_word}' correctly.\")\n",
    "            break\n",
    "        else:\n",
    "            attempts += 1\n",
    "            remaining_attempts = max_attempts - attempts\n",
    "            print(f\"Incorrect guess. {remaining_attempts} attempts remaining.\")\n",
    "\n",
    "    if attempts == max_attempts:\n",
    "        print(f\"Sorry, you've run out of attempts. The correct word was '{secret_word}'.\")\n"
   ]
  },
  {
   "cell_type": "markdown",
   "id": "bae412d0",
   "metadata": {},
   "source": [
    "# Part 3 - Task 2"
   ]
  },
  {
   "cell_type": "code",
   "execution_count": 10,
   "id": "445dd715",
   "metadata": {},
   "outputs": [],
   "source": [
    "# wordguessinggame()"
   ]
  },
  {
   "cell_type": "markdown",
   "id": "3d9e63d0",
   "metadata": {},
   "source": [
    "# Part 3 - Task 3 & 4"
   ]
  },
  {
   "cell_type": "code",
   "execution_count": 11,
   "id": "c01d7bd6",
   "metadata": {},
   "outputs": [
    {
     "name": "stdout",
     "output_type": "stream",
     "text": [
      "Application Menu:\n",
      "1. Play Riddle Puzzle.\n",
      "2. Play Arithmetic Puzzle.\n",
      "3. Play Rock-Paper-Scissors game with computer.\n",
      "4. Play Rock-Paper-Scissors game with a user.\n",
      "5. Play Word-Guessing game with Computer.\n",
      "Enter your choice (1-5): 1\n",
      " welcome to Riddle Puzzle Game\n",
      "\n",
      "Riddle: What has keys but can't open locks?\n",
      "Enter your answer: an echo\n",
      "Your answer is Incorrect : a piano\n",
      "\n",
      " Do you want to play agian ? (Y/N):n\n",
      "\n",
      " Thanks for playing\n",
      "\n",
      "Game Over. Your Score: 0.00%\n",
      "Do you want to play another game? (Y/N): n\n",
      "Thanks for playing. Exiting the program.\n"
     ]
    }
   ],
   "source": [
    "def menu():\n",
    "    print(\"Application Menu:\")\n",
    "    print(\"1. Play Riddle Puzzle.\")\n",
    "    print(\"2. Play Arithmetic Puzzle.\")\n",
    "    print(\"3. Play Rock-Paper-Scissors game with computer.\")\n",
    "    print(\"4. Play Rock-Paper-Scissors game with a user.\")\n",
    "    print(\"5. Play Word-Guessing game with Computer.\")\n",
    "\n",
    "def main():\n",
    "    while True:\n",
    "        menu()\n",
    "        option = input(\"Enter your choice (1-5): \")\n",
    "\n",
    "        if option == \"1\":\n",
    "             playRiddlePuzzle()\n",
    "        elif option == \"2\":\n",
    "            playArithmeticPuzzle()\n",
    "        elif option == \"3\":\n",
    "            playRPSWithComputer()\n",
    "        elif option == \"4\":\n",
    "            playRPSWithUser()\n",
    "        elif option == \"5\":\n",
    "            wordguessinggame()\n",
    "        else:\n",
    "            print(\"You have entered a wrong option.\")\n",
    "\n",
    "        repeat = input(\"Do you want to play another game? (Y/N): \").lower()\n",
    "        if repeat != \"y\":\n",
    "            print(\"Thanks for playing.\")\n",
    "            break\n",
    "main()"
   ]
  },
  {
   "cell_type": "code",
   "execution_count": null,
   "id": "56ad6663",
   "metadata": {},
   "outputs": [],
   "source": []
  },
  {
   "cell_type": "code",
   "execution_count": null,
   "id": "3a46d215",
   "metadata": {},
   "outputs": [],
   "source": []
  }
 ],
 "metadata": {
  "kernelspec": {
   "display_name": "Python 3 (ipykernel)",
   "language": "python",
   "name": "python3"
  },
  "language_info": {
   "codemirror_mode": {
    "name": "ipython",
    "version": 3
   },
   "file_extension": ".py",
   "mimetype": "text/x-python",
   "name": "python",
   "nbconvert_exporter": "python",
   "pygments_lexer": "ipython3",
   "version": "3.9.12"
  }
 },
 "nbformat": 4,
 "nbformat_minor": 5
}
